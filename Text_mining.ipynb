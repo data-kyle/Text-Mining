{
  "nbformat": 4,
  "nbformat_minor": 0,
  "metadata": {
    "colab": {
      "name": "Text_mining.ipynb",
      "provenance": [],
      "collapsed_sections": []
    },
    "kernelspec": {
      "name": "python3",
      "display_name": "Python 3"
    },
    "language_info": {
      "name": "python"
    }
  },
  "cells": [
    {
      "cell_type": "markdown",
      "metadata": {
        "id": "Ocgz8-3Cv0pb"
      },
      "source": [
        "# Overview\n",
        "**Perform text mining**\n",
        "- Construct a climate change regulatory news index. \n",
        "  - Use a `search engine` to compute numerical statistic known as \"term frequency - inverse document frequency) or `TF-IDF`\n",
        "  - Reflect how `important a word is` to a document in a collection of `corpus` from Wall Street Journal (WSJ)."
      ]
    },
    {
      "cell_type": "code",
      "metadata": {
        "id": "UfWaMQcSvlHR"
      },
      "source": [
        "from sklearn.feature_extraction.text import TfidfVectorizer\n",
        "import numpy as np\n",
        "import pandas as pd\n",
        "import re\n",
        "from matplotlib import pyplot as plt\n",
        "import seaborn as sns\n",
        "sns.set(context='notebook', style='white')"
      ],
      "execution_count": 2,
      "outputs": []
    },
    {
      "cell_type": "markdown",
      "metadata": {
        "id": "gk7CXRVu69nh"
      },
      "source": [
        "# Part 1"
      ]
    },
    {
      "cell_type": "markdown",
      "metadata": {
        "id": "qFIrAiVtwOjZ"
      },
      "source": [
        "## Create a term-document matrix"
      ]
    },
    {
      "cell_type": "code",
      "metadata": {
        "id": "DAz8kiJPwMEA"
      },
      "source": [
        "# Create a corpus of documents, each document a paragraph or a sentence\n",
        "corpus = ['The dog ate a sandwich, the wizard transfigured a sandwich, and I ate a sandwich']\n",
        "\n",
        "# Stop words, stemming, and tokenizing\n",
        "vectorizer = TfidfVectorizer(stop_words='english', use_idf=True, ngram_range=(1, 3))\n",
        "\n",
        "# Compute the term-document matrix with n-grams\n",
        "tdm = vectorizer.fit_transform(corpus)\n",
        "\n",
        "# The term-document matrix has a word and a document\n",
        "print(f\"Term-document matrix: \\n{tdm}\")"
      ],
      "execution_count": null,
      "outputs": []
    },
    {
      "cell_type": "code",
      "metadata": {
        "colab": {
          "base_uri": "https://localhost:8080/"
        },
        "id": "FFb5y-l2wL-l",
        "outputId": "01d07d85-7e47-4ba7-aeca-80573791b2cd"
      },
      "source": [
        "# The row index is the word\n",
        "print(f\"Row index: \\n{vectorizer.get_feature_names()}\")"
      ],
      "execution_count": 7,
      "outputs": [
        {
          "output_type": "stream",
          "name": "stdout",
          "text": [
            "Row index: \n",
            "['ate', 'ate sandwich', 'ate sandwich wizard', 'dog', 'dog ate', 'dog ate sandwich', 'sandwich', 'sandwich ate', 'sandwich ate sandwich', 'sandwich wizard', 'sandwich wizard transfigured', 'transfigured', 'transfigured sandwich', 'transfigured sandwich ate', 'wizard', 'wizard transfigured', 'wizard transfigured sandwich']\n"
          ]
        }
      ]
    },
    {
      "cell_type": "code",
      "metadata": {
        "colab": {
          "base_uri": "https://localhost:8080/"
        },
        "id": "mRkoRGUIwL40",
        "outputId": "170fa857-4e42-44f5-e473-50c7c7ca2fb1"
      },
      "source": [
        "# The column index is the document\n",
        "print(f\"Column index: \\n{vectorizer.get_feature_names()}\")"
      ],
      "execution_count": 8,
      "outputs": [
        {
          "output_type": "stream",
          "name": "stdout",
          "text": [
            "Column index: \n",
            "['ate', 'ate sandwich', 'ate sandwich wizard', 'dog', 'dog ate', 'dog ate sandwich', 'sandwich', 'sandwich ate', 'sandwich ate sandwich', 'sandwich wizard', 'sandwich wizard transfigured', 'transfigured', 'transfigured sandwich', 'transfigured sandwich ate', 'wizard', 'wizard transfigured', 'wizard transfigured sandwich']\n"
          ]
        }
      ]
    },
    {
      "cell_type": "code",
      "metadata": {
        "id": "5VSG7aoXwLy4"
      },
      "source": [
        "# Create a dataframe with the TDM\n",
        "tdm_df = pd.DataFrame(tdm.toarray(), columns=vectorizer.get_feature_names(), index=['doc_1'])\n",
        "tdm_df.to_csv('tdm.csv')"
      ],
      "execution_count": 34,
      "outputs": []
    },
    {
      "cell_type": "code",
      "metadata": {
        "colab": {
          "base_uri": "https://localhost:8080/"
        },
        "id": "H8rjxfQ83yVl",
        "outputId": "df3c80f4-8c7a-4246-be9d-3b955a4c1ad9"
      },
      "source": [
        "tdm_df['wizard']"
      ],
      "execution_count": 24,
      "outputs": [
        {
          "output_type": "execute_result",
          "data": {
            "text/plain": [
              "doc_1    0.179605\n",
              "Name: wizard, dtype: float64"
            ]
          },
          "metadata": {},
          "execution_count": 24
        }
      ]
    },
    {
      "cell_type": "markdown",
      "metadata": {
        "id": "_vUfNaTO0I9h"
      },
      "source": [
        "## Extract the TF-IDF for a word in a document"
      ]
    },
    {
      "cell_type": "code",
      "metadata": {
        "colab": {
          "base_uri": "https://localhost:8080/"
        },
        "id": "hikjvVuPwLtD",
        "outputId": "653e6caf-e430-4dc6-82c4-6dc6d6b6041f"
      },
      "source": [
        "# The term frequency is the number of times a word appears in a document\n",
        "print(f\"The term frequency for 'sandwich' is {tdm_df.loc['doc_1']['sandwich']}\")"
      ],
      "execution_count": 13,
      "outputs": [
        {
          "output_type": "stream",
          "name": "stdout",
          "text": [
            "The term frequency for 'sandwich' is 0.5388159060803247\n"
          ]
        }
      ]
    },
    {
      "cell_type": "code",
      "metadata": {
        "colab": {
          "base_uri": "https://localhost:8080/"
        },
        "id": "XmD7t7OdyodG",
        "outputId": "edfa10d9-efe3-4f2e-fafe-87a3a8e00bae"
      },
      "source": [
        "# The inverse document frequency is the number of documents divided by the number of documents that contain the word\n",
        "print(f\"The inverse document frequency for 'sandwich' is {vectorizer.idf_[vectorizer.vocabulary_['sandwich']]}\")"
      ],
      "execution_count": 16,
      "outputs": [
        {
          "output_type": "stream",
          "name": "stdout",
          "text": [
            "The inverse document frequency for 'sandwich' is 1.0\n"
          ]
        }
      ]
    },
    {
      "cell_type": "code",
      "metadata": {
        "colab": {
          "base_uri": "https://localhost:8080/"
        },
        "id": "SU2ukez0yoXG",
        "outputId": "60de5c44-4423-4579-ce3b-def312ed50c7"
      },
      "source": [
        "# The TF-IDF is the product of the TF and IDF\n",
        "print(f\"The TF-IDF for 'sandwich' is {tdm_df.loc['doc_1']['sandwich'] * vectorizer.idf_[vectorizer.vocabulary_['sandwich']]}\")"
      ],
      "execution_count": 18,
      "outputs": [
        {
          "output_type": "stream",
          "name": "stdout",
          "text": [
            "The TF-IDF for 'sandwich' is 0.5388159060803247\n"
          ]
        }
      ]
    },
    {
      "cell_type": "code",
      "metadata": {
        "id": "UD5q4o7-5nKl"
      },
      "source": [
        ""
      ],
      "execution_count": null,
      "outputs": []
    }
  ]
}